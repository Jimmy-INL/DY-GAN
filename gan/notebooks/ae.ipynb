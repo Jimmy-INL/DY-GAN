{
 "cells": [
  {
   "cell_type": "code",
   "execution_count": 53,
   "metadata": {
    "collapsed": false
   },
   "outputs": [],
   "source": [
    "%matplotlib inline\n",
    "\n",
    "import os\n",
    "import tensorflow as tf\n",
    "tf.set_random_seed(42)\n",
    "\n",
    "\n",
    "import keras.backend.tensorflow_backend as K\n",
    "from keras.layers import Input, Dense, Reshape, Flatten, Dropout, Lambda, BatchNormalization, Activation\n",
    "from keras.layers.advanced_activations import LeakyReLU\n",
    "from keras.models import Sequential, Model, load_model\n",
    "from keras.optimizers import Adam, RMSprop\n",
    "from keras.initializers import RandomNormal\n",
    "from keras import regularizers\n",
    "from sklearn.preprocessing import *\n",
    "import numpy as np\n",
    "np.random.seed(42)\n",
    "np.set_printoptions(threshold=10,linewidth=150)\n",
    "\n",
    "import matplotlib.pyplot as plt\n",
    "\n",
    "import argparse\n",
    "import time\n",
    "import pickle\n",
    "import sys\n",
    "import os\n",
    "sys.path.append(\"../\")\n",
    "\n",
    "from physicsfuncs import Minv, cartesian_to_ptetaphi\n"
   ]
  },
  {
   "cell_type": "code",
   "execution_count": 2,
   "metadata": {
    "collapsed": true
   },
   "outputs": [],
   "source": [
    "\n",
    "def train_test_split(*args,**kwargs):\n",
    "    train_size = 1.-kwargs.get(\"test_size\", 0.5)\n",
    "    for arg in args:\n",
    "        n_total = arg.shape[0]\n",
    "        n_train = int(train_size*n_total)\n",
    "        train = arg[:n_train]\n",
    "        test = arg[n_train-n_total:]\n",
    "        yield train\n",
    "        yield test\n",
    "        \n",
    "def get_mll_from_eptetaphi(x):\n",
    "    return np.sqrt(2.*x[:,1]*x[:,5]*(np.cosh(x[:,2]-x[:,6])-np.cos(x[:,3]-x[:,7])))\n",
    "print get_mll_from_eptetaphi(X_val_true_unsc)"
   ]
  },
  {
   "cell_type": "code",
   "execution_count": 155,
   "metadata": {
    "collapsed": false
   },
   "outputs": [
    {
     "name": "stdout",
     "output_type": "stream",
     "text": [
      "[[ 156.5763       96.05375644    1.07069622 ...,  124.68889814    1.67287048   -2.23026849]\n",
      " [  52.72488      45.47710145    0.55732902 ...,   46.63615894    0.66390589   -2.27015341]\n",
      " [  46.124324     44.03831489   -0.30658124 ...,   40.19973855   -1.13845094   -1.30189545]\n",
      " ..., \n",
      " [  54.019653     35.47362132    0.98255151 ...,   14.71342911   -1.62396015   -0.8032189 ]\n",
      " [  34.446975     29.81992605   -0.55010225 ...,   66.08879878   -1.35930338    1.94711657]\n",
      " [  69.702903     44.47176092    1.0203773  ...,   52.93210118    0.98355605   -2.14424762]]\n"
     ]
    }
   ],
   "source": [
    "data = np.load(\"data_xyz.npy\")\n",
    "X_total = data[:,range(1,1+8)]\n",
    "\n",
    "use_pt_eta_phi = True\n",
    "params = {\n",
    "    \"output_activation\" : \"sigmoid\",\n",
    "    \"neck_dim\" : 5,\n",
    "    \"node_geometry\" : \"100,50,30,10\",\n",
    "#     \"node_geometry\" : \"30,20,10\",\n",
    "    \"output_shape\" : (8,),\n",
    "    \"activation\" : \"relu\",\n",
    "    \"optimizer\": \"adam\",\n",
    "    \"loss\": \"binary_crossentropy\",\n",
    "    \"batch_size\": 256,\n",
    "    \"epochs\": 5,\n",
    "}\n",
    "\n",
    "# convert to Eptetaphi\n",
    "if use_pt_eta_phi:\n",
    "    X_total = cartesian_to_ptetaphi(X_total)\n",
    "\n",
    "print X_total\n",
    "scaler = MinMaxScaler()\n",
    "scaler.fit(X_total)\n",
    "X_total = scaler.transform(X_total)"
   ]
  },
  {
   "cell_type": "code",
   "execution_count": 156,
   "metadata": {
    "collapsed": false
   },
   "outputs": [],
   "source": [
    "X_train, X_val = train_test_split(X_total, test_size=0.3)"
   ]
  },
  {
   "cell_type": "code",
   "execution_count": 157,
   "metadata": {
    "collapsed": false
   },
   "outputs": [
    {
     "name": "stdout",
     "output_type": "stream",
     "text": [
      "[ 0.04627909  0.08291895  0.59422893  0.22841137  0.1009523   0.1767768   0.65281163  0.14504211]\n"
     ]
    }
   ],
   "source": [
    "print X_train[0]"
   ]
  },
  {
   "cell_type": "code",
   "execution_count": null,
   "metadata": {
    "collapsed": true
   },
   "outputs": [],
   "source": []
  },
  {
   "cell_type": "code",
   "execution_count": 158,
   "metadata": {
    "collapsed": true
   },
   "outputs": [],
   "source": [
    "def get_models(params):\n",
    "\n",
    "    \n",
    "        # define the autoencoder\n",
    "    neck_dim = params[\"neck_dim\"]\n",
    "    output_shape = params[\"output_shape\"]\n",
    "    activation = params[\"activation\"]\n",
    "    node_geometry = params[\"node_geometry\"]\n",
    "    output_activation = params[\"output_activation\"]\n",
    "    \n",
    "    \n",
    "    # define the model\n",
    "    inputs = Input(shape=output_shape)\n",
    "    upper_geom = []\n",
    "    for nodes in node_geometry.split(\",\"):\n",
    "        upper_geom.append({\n",
    "            \"nodes\": int(nodes),\n",
    "            \"activation\": activation,\n",
    "            })\n",
    "    print upper_geom\n",
    "\n",
    "    encoded = None\n",
    "    decoded = None\n",
    "    for igeom,geom in enumerate(upper_geom):\n",
    "        to_wrap = inputs if igeom == 0 else encoded\n",
    "        encoded = Dense(geom[\"nodes\"], activation=geom[\"activation\"])(to_wrap)\n",
    "    encoded = Dense(neck_dim , activation=activation, name=\"neck\", activity_regularizer=regularizers.l1(1e-5))(encoded)\n",
    "    for igeom,geom in enumerate(upper_geom[::-1]):\n",
    "        to_wrap = encoded if igeom == 0 else decoded\n",
    "        decoded = Dense(geom[\"nodes\"], activation=geom[\"activation\"])(to_wrap)\n",
    "    decoded = Dense(output_shape[0] , activation=output_activation)(decoded)\n",
    "\n",
    "    # AUTOENCODER\n",
    "    autoencoder = Model(inputs, decoded)\n",
    "\n",
    "    # ENCODER\n",
    "    encoder = Model(inputs, encoded)\n",
    "\n",
    "    # DECODER\n",
    "    # create a placeholder for an encoded (32-dimensional) input\n",
    "    encoded_input = Input(shape=(neck_dim,))\n",
    "\n",
    "    decoder_layer = None\n",
    "    for ilay in range(-len(upper_geom)-1,0):\n",
    "        to_wrap = encoded_input if ilay == -len(upper_geom)-1 else decoder_layer\n",
    "        decoder_layer = autoencoder.layers[ilay](to_wrap)\n",
    "\n",
    "    decoder = Model(encoded_input, decoder_layer)\n",
    "\n",
    "    return autoencoder, encoder, decoder"
   ]
  },
  {
   "cell_type": "code",
   "execution_count": 159,
   "metadata": {
    "collapsed": false
   },
   "outputs": [
    {
     "name": "stdout",
     "output_type": "stream",
     "text": [
      "[{'nodes': 100, 'activation': 'relu'}, {'nodes': 50, 'activation': 'relu'}, {'nodes': 30, 'activation': 'relu'}, {'nodes': 10, 'activation': 'relu'}]\n"
     ]
    }
   ],
   "source": [
    "ae, encoder, decoder = get_models(params)"
   ]
  },
  {
   "cell_type": "code",
   "execution_count": 160,
   "metadata": {
    "collapsed": false
   },
   "outputs": [
    {
     "name": "stdout",
     "output_type": "stream",
     "text": [
      "_________________________________________________________________\n",
      "Layer (type)                 Output Shape              Param #   \n",
      "=================================================================\n",
      "input_13 (InputLayer)        (None, 8)                 0         \n",
      "_________________________________________________________________\n",
      "dense_47 (Dense)             (None, 100)               900       \n",
      "_________________________________________________________________\n",
      "dense_48 (Dense)             (None, 50)                5050      \n",
      "_________________________________________________________________\n",
      "dense_49 (Dense)             (None, 30)                1530      \n",
      "_________________________________________________________________\n",
      "dense_50 (Dense)             (None, 10)                310       \n",
      "_________________________________________________________________\n",
      "neck (Dense)                 (None, 5)                 55        \n",
      "_________________________________________________________________\n",
      "dense_51 (Dense)             (None, 10)                60        \n",
      "_________________________________________________________________\n",
      "dense_52 (Dense)             (None, 30)                330       \n",
      "_________________________________________________________________\n",
      "dense_53 (Dense)             (None, 50)                1550      \n",
      "_________________________________________________________________\n",
      "dense_54 (Dense)             (None, 100)               5100      \n",
      "_________________________________________________________________\n",
      "dense_55 (Dense)             (None, 8)                 808       \n",
      "=================================================================\n",
      "Total params: 15,693\n",
      "Trainable params: 15,693\n",
      "Non-trainable params: 0\n",
      "_________________________________________________________________\n"
     ]
    }
   ],
   "source": [
    "ae.compile(optimizer=params[\"optimizer\"], loss=params[\"loss\"])\n",
    "ae.summary()"
   ]
  },
  {
   "cell_type": "code",
   "execution_count": 161,
   "metadata": {
    "collapsed": false
   },
   "outputs": [
    {
     "name": "stdout",
     "output_type": "stream",
     "text": [
      "Train on 1049998 samples, validate on 450000 samples\n",
      "Epoch 1/5\n",
      "34s - loss: 0.3756 - val_loss: 0.3691\n",
      "Epoch 2/5\n",
      "33s - loss: 0.3690 - val_loss: 0.3688\n",
      "Epoch 3/5\n",
      "34s - loss: 0.3688 - val_loss: 0.3687\n",
      "Epoch 4/5\n",
      "34s - loss: 0.3686 - val_loss: 0.3687\n",
      "Epoch 5/5\n",
      "34s - loss: 0.3684 - val_loss: 0.3683\n"
     ]
    }
   ],
   "source": [
    "history = ae.fit(X_train, X_train,\n",
    "        epochs = params[\"epochs\"],\n",
    "        batch_size = params[\"batch_size\"],\n",
    "        shuffle = True,\n",
    "        validation_data = (X_val, X_val),\n",
    "                verbose=2)"
   ]
  },
  {
   "cell_type": "code",
   "execution_count": 162,
   "metadata": {
    "collapsed": false
   },
   "outputs": [
    {
     "name": "stdout",
     "output_type": "stream",
     "text": [
      "[ 90.43729608  91.47363312  94.00211987 ...,  90.96239429  91.93654845  90.02327215]\n",
      "[ 120.56008148   84.21842194   85.45379639 ...,   59.15916061   82.66790009   87.76174927]\n",
      "2.72390056947 12.1324047502\n"
     ]
    }
   ],
   "source": [
    "N = 100\n",
    "func = Minv\n",
    "if use_pt_eta_phi:\n",
    "    func = get_mll_from_eptetaphi\n",
    "mllreal = func(scaler.inverse_transform(X_val[:N]))\n",
    "mllae = func(scaler.inverse_transform(ae.predict(X_val[:N])))\n",
    "print mllreal\n",
    "print mllae\n",
    "print (mllreal-mllae).mean(), (mllreal-mllae).std()"
   ]
  },
  {
   "cell_type": "code",
   "execution_count": 163,
   "metadata": {
    "collapsed": false
   },
   "outputs": [
    {
     "data": {
      "text/plain": [
       "<matplotlib.legend.Legend at 0x7fa04003b110>"
      ]
     },
     "execution_count": 163,
     "metadata": {},
     "output_type": "execute_result"
    },
    {
     "data": {
      "image/png": "[encoded data removed]",
      "text/plain": [
       "<matplotlib.figure.Figure at 0x7fa04003b150>"
      ]
     },
     "metadata": {},
     "output_type": "display_data"
    }
   ],
   "source": [
    "\n",
    "\n",
    "fig, ax = plt.subplots(1,1,figsize=(15,8))\n",
    "\n",
    "idx = ic // ncols, ic % ncols\n",
    "ax.hist(mllreal, range=(40,150),bins=35, histtype=\"step\", lw=2)\n",
    "ax.hist(mllae, range=(40,150),bins=35, histtype=\"step\", lw=2)\n",
    "ax.set_xlabel(\"mll [GeV]\")\n",
    "ax.legend([\"True\",\"Decoded\"], loc='upper right')"
   ]
  },
  {
   "cell_type": "code",
   "execution_count": 164,
   "metadata": {
    "collapsed": false
   },
   "outputs": [
    {
     "name": "stdout",
     "output_type": "stream",
     "text": [
      "transformed true\n",
      "transformed ae\n",
      "[[  7.92006300e+01   6.24236364e+01  -7.17656217e-01 ...,   3.52331026e+01   9.66351723e-01   2.02137243e+00]\n",
      " [  8.97044600e+01   5.97193397e+01   9.64299100e-01 ...,   3.16460158e+01   5.99279213e-02  -2.91693324e-01]\n",
      " [  5.65368300e+01   3.92952073e+01   9.05514538e-01 ...,   5.51532692e+01   1.22626985e+00   1.88259371e+00]\n",
      " ..., \n",
      " [  5.40196530e+01   3.54736213e+01   9.82551511e-01 ...,   1.47134291e+01  -1.62396015e+00  -8.03218899e-01]\n",
      " [  3.44469750e+01   2.98199261e+01  -5.50102245e-01 ...,   6.60887988e+01  -1.35930338e+00   1.94711657e+00]\n",
      " [  6.97029030e+01   4.44717609e+01   1.02037730e+00 ...,   5.29321012e+01   9.83556046e-01  -2.14424762e+00]]\n",
      "[[  67.97809601   46.22080612   -0.63065213 ...,   41.71662903    1.59174156    1.99706137]\n",
      " [  76.55107117   41.01302338    1.13891888 ...,   41.07395172    0.37362671   -0.27980006]\n",
      " [ 101.23762512   41.97013092    1.35808849 ...,   42.57387543    1.05667734    1.87394404]\n",
      " ..., \n",
      " [  52.99662018   37.12332535    0.96360576 ...,   37.21073151   -0.50077629   -0.82234508]\n",
      " [  74.16033173   41.79162216   -0.83291644 ...,   41.37725449   -1.09832561    1.91559291]\n",
      " [ 104.54161072   44.20652008    1.41985524 ...,   44.65489197    1.00417113   -2.12641764]]\n"
     ]
    }
   ],
   "source": [
    "X_val_true_unsc = scaler.inverse_transform(X_val)\n",
    "print \"transformed true\"\n",
    "X_val_ae_unsc = scaler.inverse_transform(ae.predict(X_val))\n",
    "print \"transformed ae\"\n",
    "\n",
    "print X_val_true_unsc\n",
    "print X_val_ae_unsc\n"
   ]
  },
  {
   "cell_type": "code",
   "execution_count": 165,
   "metadata": {
    "collapsed": false
   },
   "outputs": [
    {
     "data": {
      "text/plain": [
       "<matplotlib.legend.Legend at 0x7fa02821ae90>"
      ]
     },
     "execution_count": 165,
     "metadata": {},
     "output_type": "execute_result"
    },
    {
     "data": {
      "image/png": "[encoded data removed]",
      "text/plain": [
       "<matplotlib.figure.Figure at 0x7fa01013c550>"
      ]
     },
     "metadata": {},
     "output_type": "display_data"
    }
   ],
   "source": [
    "nrows, ncols = 2,4\n",
    "fig, axs = plt.subplots(nrows,ncols,figsize=(15,8))\n",
    "fig.subplots_adjust(wspace=0.1)\n",
    "\n",
    "# make plots of parameters. must match column ordering. second element is histo range.\n",
    "if use_pt_eta_phi:\n",
    "    info = [\n",
    "        (\"E1\",(0,500)),\n",
    "        (\"pt1\",(0,200)),\n",
    "        (\"eta1\",(-3,3)),\n",
    "        (\"phi1\",(-3.2,3.2)),\n",
    "        (\"E2\",(0,500)),\n",
    "        (\"pt2\",(0,200)),\n",
    "        (\"eta2\",(-3,3)),\n",
    "        (\"phi2\",(-3.2,3.2)),\n",
    "    ]\n",
    "else:\n",
    "    info = [\n",
    "        (\"E1\",(0,500)),\n",
    "        (\"px1\",(-100,100)),\n",
    "        (\"py1\",(-100,100)),\n",
    "        (\"pz1\",(-100,100)),\n",
    "        (\"E2\",(0,500)),\n",
    "        (\"px2\",(-100,100)),\n",
    "        (\"py2\",(-100,100)),\n",
    "        (\"pz2\",(-100,100)),\n",
    "    ]\n",
    "for ic,(cname,crange) in enumerate(info):\n",
    "    idx = ic // ncols, ic % ncols\n",
    "    axs[idx].hist(X_val_true_unsc[:,ic], range=crange,bins=100, histtype=\"step\", lw=2)\n",
    "    axs[idx].hist(X_val_ae_unsc[:,ic], range=crange,bins=100, histtype=\"step\", lw=2)\n",
    "    axs[idx].set_xlabel(cname)\n",
    "    axs[idx].get_yaxis().set_visible(False)\n",
    "axs[0,0].legend([\"True\",\"Decoded\"], loc='upper right')"
   ]
  },
  {
   "cell_type": "code",
   "execution_count": null,
   "metadata": {
    "collapsed": true
   },
   "outputs": [],
   "source": []
  }
 ],
 "metadata": {
  "kernelspec": {
   "display_name": "Python 2",
   "language": "python",
   "name": "python2"
  },
  "language_info": {
   "codemirror_mode": {
    "name": "ipython",
    "version": 2
   },
   "file_extension": ".py",
   "mimetype": "text/x-python",
   "name": "python",
   "nbconvert_exporter": "python",
   "pygments_lexer": "ipython2",
   "version": "2.7.11"
  }
 },
 "nbformat": 4,
 "nbformat_minor": 2
}
