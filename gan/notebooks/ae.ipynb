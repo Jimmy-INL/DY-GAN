{
 "cells": [
  {
   "cell_type": "code",
   "execution_count": 13,
   "metadata": {
    "collapsed": false
   },
   "outputs": [
    {
     "data": {
      "text/plain": [
       "0"
      ]
     },
     "execution_count": 13,
     "metadata": {},
     "output_type": "execute_result"
    }
   ],
   "source": [
    "%matplotlib inline\n",
    "\n",
    "import os\n",
    "import tensorflow as tf\n",
    "import math\n",
    "tf.set_random_seed(42)\n",
    "\n",
    "\n",
    "import keras.backend.tensorflow_backend as K\n",
    "from keras.layers import Input, Dense, Reshape, Flatten, Dropout, Lambda, BatchNormalization, Activation\n",
    "from keras.layers.advanced_activations import LeakyReLU\n",
    "from keras.models import Sequential, Model, load_model\n",
    "from keras.optimizers import Adam, RMSprop\n",
    "from keras.initializers import RandomNormal\n",
    "from keras import regularizers\n",
    "from sklearn.preprocessing import *\n",
    "import numpy as np\n",
    "np.random.seed(42)\n",
    "np.set_printoptions(threshold=10,linewidth=150)\n",
    "\n",
    "import matplotlib as mpl\n",
    "mpl.use('Agg')\n",
    "import matplotlib.pyplot as plt\n",
    "\n",
    "\n",
    "import argparse\n",
    "import time\n",
    "import pickle\n",
    "import sys\n",
    "import os\n",
    "sys.path.append(\"../\")\n",
    "\n",
    "from physicsfuncs import Minv,cartesian_to_ptetaphi\n",
    "\n",
    "os.system(\"mkdir -p outputs/\")"
   ]
  },
  {
   "cell_type": "code",
   "execution_count": 6,
   "metadata": {
    "collapsed": false
   },
   "outputs": [],
   "source": [
    "\n",
    "def train_test_split(*args,**kwargs):\n",
    "    train_size = 1.-kwargs.get(\"test_size\", 0.5)\n",
    "    for arg in args:\n",
    "        n_total = arg.shape[0]\n",
    "        n_train = int(train_size*n_total)\n",
    "        train = arg[:n_train]\n",
    "        test = arg[n_train-n_total:]\n",
    "        yield train\n",
    "        yield test\n",
    "        \n",
    "def get_mll_from_eptetaphi(x):\n",
    "    # mll^2 = 2*pt1*pt2*(cosh(eta1-eta2)-cos(phi1-phi2))\n",
    "    return np.sqrt(2.*x[:,1]*x[:,5]*(np.cosh(x[:,2]-x[:,6])-np.cos(x[:,3]-x[:,7])))\n"
   ]
  },
  {
   "cell_type": "code",
   "execution_count": 7,
   "metadata": {
    "collapsed": false
   },
   "outputs": [
    {
     "name": "stdout",
     "output_type": "stream",
     "text": [
      "[[  1.56576300e+02   9.60537564e+01   1.07069622e+00 ...,   1.24688898e+02   1.67287048e+00   0.00000000e+00]\n",
      " [  5.27248800e+01   4.54771014e+01   5.57329020e-01 ...,   4.66361589e+01   6.63905888e-01   0.00000000e+00]\n",
      " [  4.61243240e+01   4.40383149e+01  -3.06581235e-01 ...,   4.01997386e+01  -1.13845094e+00   0.00000000e+00]\n",
      " ..., \n",
      " [  5.14182540e+01   3.56147643e+01   9.10295569e-01 ...,   3.26759092e+01  -8.03843879e-01   0.00000000e+00]\n",
      " [  6.56284710e+01   6.55633096e+01  -4.45501111e-02 ...,   3.26492933e+01  -3.18754460e-01   0.00000000e+00]\n",
      " [  5.58817100e+01   3.44845700e+01   1.06319685e+00 ...,   3.67605268e+01  -4.10495233e-01   0.00000000e+00]]\n",
      "[[ 0.05769162  0.14263615  0.59522087 ...,  0.22189026  0.66632151  0.        ]\n",
      " [ 0.01871298  0.06706257  0.55303501 ...,  0.0827665   0.60243981  0.        ]\n",
      " [ 0.01623559  0.06491268  0.48204335 ...,  0.07129401  0.48832518  0.        ]\n",
      " ..., \n",
      " [ 0.01822257  0.05232589  0.58203997 ...,  0.05788329  0.50951053  0.        ]\n",
      " [ 0.0235561   0.09707615  0.50357571 ...,  0.05783585  0.54022354  0.        ]\n",
      " [ 0.01989784  0.05063711  0.59460461 ...,  0.06516385  0.53441505  0.        ]]\n",
      "Train on (210000, 8)\n",
      "Test on (90000, 8)\n"
     ]
    }
   ],
   "source": [
    "data = np.load(\"data_xyz.npy\")\n",
    "X_total = data[:,range(1,1+8)]\n",
    "\n",
    "\n",
    "# N_max_samples = 300000\n",
    "# use_pt_eta_phi = True\n",
    "# use_dphi = True\n",
    "params = {\n",
    "    \"use_pt_eta_phi\": True,\n",
    "    \"use_dphi\": True,\n",
    "    \"N_max_samples\": 300000,\n",
    "    \"output_activation\" : \"sigmoid\",\n",
    "    \"neck_dim\" : 5,\n",
    "    \"node_geometry\" : \"100,50,25\",\n",
    "#     \"node_geometry\" : \"30,20,10\",\n",
    "    \"output_shape\" : (8,),\n",
    "    \"activation\" : \"relu\",\n",
    "    \"optimizer\": \"adam\",\n",
    "    \"loss\": \"binary_crossentropy\",\n",
    "    \"batch_size\": 256,\n",
    "    \"epochs\": 10,\n",
    "}\n",
    "X_total = X_total[:params[\"N_max_samples\"]]\n",
    "\n",
    "# convert to Eptetaphi\n",
    "if params[\"use_pt_eta_phi\"]:\n",
    "    X_total = cartesian_to_ptetaphi(X_total)\n",
    "    \n",
    "    # replace first phi with dphi and second phi with 0\n",
    "    if params[\"use_dphi\"]: \n",
    "        dphi = X_total[:,7] - X_total[:,3]\n",
    "        dphi[dphi>math.pi] -= 2*math.pi\n",
    "        dphi[dphi<-math.pi] += 2*math.pi\n",
    "        X_total[:,3] = dphi\n",
    "        X_total[:,7] = 0.\n",
    "\n",
    "print X_total\n",
    "scaler = MinMaxScaler()\n",
    "scaler.fit(X_total)\n",
    "X_total = scaler.transform(X_total)\n",
    "print X_total\n",
    "\n",
    "X_train, X_val = train_test_split(X_total, test_size=0.3)\n",
    "print \"Train on\", X_train.shape\n",
    "print \"Test on\", X_val.shape"
   ]
  },
  {
   "cell_type": "code",
   "execution_count": 8,
   "metadata": {
    "collapsed": true
   },
   "outputs": [],
   "source": [
    "def get_models(params):\n",
    "\n",
    "    \n",
    "        # define the autoencoder\n",
    "    neck_dim = params[\"neck_dim\"]\n",
    "    output_shape = params[\"output_shape\"]\n",
    "    activation = params[\"activation\"]\n",
    "    node_geometry = params[\"node_geometry\"]\n",
    "    output_activation = params[\"output_activation\"]\n",
    "    \n",
    "    \n",
    "    # define the model\n",
    "    inputs = Input(shape=output_shape)\n",
    "    upper_geom = []\n",
    "    for nodes in node_geometry.split(\",\"):\n",
    "        upper_geom.append({\n",
    "            \"nodes\": int(nodes),\n",
    "            \"activation\": activation,\n",
    "            })\n",
    "    print upper_geom\n",
    "\n",
    "    encoded = None\n",
    "    decoded = None\n",
    "    for igeom,geom in enumerate(upper_geom):\n",
    "        to_wrap = inputs if igeom == 0 else encoded\n",
    "        encoded = Dense(geom[\"nodes\"], activation=geom[\"activation\"])(to_wrap)\n",
    "    encoded = Dense(neck_dim , activation=activation, name=\"neck\", activity_regularizer=regularizers.l1(1e-5))(encoded)\n",
    "    for igeom,geom in enumerate(upper_geom[::-1]):\n",
    "        to_wrap = encoded if igeom == 0 else decoded\n",
    "        decoded = Dense(geom[\"nodes\"], activation=geom[\"activation\"])(to_wrap)\n",
    "    decoded = Dense(output_shape[0] , activation=output_activation)(decoded)\n",
    "\n",
    "    # AUTOENCODER\n",
    "    autoencoder = Model(inputs, decoded)\n",
    "\n",
    "    # ENCODER\n",
    "    encoder = Model(inputs, encoded)\n",
    "\n",
    "    # DECODER\n",
    "    # create a placeholder for an encoded (32-dimensional) input\n",
    "    encoded_input = Input(shape=(neck_dim,))\n",
    "\n",
    "    decoder_layer = None\n",
    "    for ilay in range(-len(upper_geom)-1,0):\n",
    "        to_wrap = encoded_input if ilay == -len(upper_geom)-1 else decoder_layer\n",
    "        decoder_layer = autoencoder.layers[ilay](to_wrap)\n",
    "\n",
    "    decoder = Model(encoded_input, decoder_layer)\n",
    "\n",
    "    return autoencoder, encoder, decoder"
   ]
  },
  {
   "cell_type": "code",
   "execution_count": 9,
   "metadata": {
    "collapsed": false
   },
   "outputs": [
    {
     "name": "stdout",
     "output_type": "stream",
     "text": [
      "[{'nodes': 100, 'activation': 'relu'}, {'nodes': 50, 'activation': 'relu'}, {'nodes': 25, 'activation': 'relu'}]\n",
      "_________________________________________________________________\n",
      "Layer (type)                 Output Shape              Param #   \n",
      "=================================================================\n",
      "input_1 (InputLayer)         (None, 8)                 0         \n",
      "_________________________________________________________________\n",
      "dense_1 (Dense)              (None, 100)               900       \n",
      "_________________________________________________________________\n",
      "dense_2 (Dense)              (None, 50)                5050      \n",
      "_________________________________________________________________\n",
      "dense_3 (Dense)              (None, 25)                1275      \n",
      "_________________________________________________________________\n",
      "neck (Dense)                 (None, 5)                 130       \n",
      "_________________________________________________________________\n",
      "dense_4 (Dense)              (None, 25)                150       \n",
      "_________________________________________________________________\n",
      "dense_5 (Dense)              (None, 50)                1300      \n",
      "_________________________________________________________________\n",
      "dense_6 (Dense)              (None, 100)               5100      \n",
      "_________________________________________________________________\n",
      "dense_7 (Dense)              (None, 8)                 808       \n",
      "=================================================================\n",
      "Total params: 14,713\n",
      "Trainable params: 14,713\n",
      "Non-trainable params: 0\n",
      "_________________________________________________________________\n"
     ]
    }
   ],
   "source": [
    "ae, encoder, decoder = get_models(params)\n",
    "ae.compile(optimizer=params[\"optimizer\"], loss=params[\"loss\"])\n",
    "ae.summary()"
   ]
  },
  {
   "cell_type": "code",
   "execution_count": 10,
   "metadata": {
    "collapsed": false
   },
   "outputs": [
    {
     "name": "stdout",
     "output_type": "stream",
     "text": [
      "Train on 210000 samples, validate on 90000 samples\n",
      "Epoch 1/10\n",
      "6s - loss: 0.3073 - val_loss: 0.2869\n",
      "Epoch 2/10\n",
      "5s - loss: 0.2862 - val_loss: 0.2857\n",
      "Epoch 3/10\n",
      "5s - loss: 0.2855 - val_loss: 0.2854\n",
      "Epoch 4/10\n",
      "5s - loss: 0.2852 - val_loss: 0.2851\n",
      "Epoch 5/10\n",
      "5s - loss: 0.2850 - val_loss: 0.2849\n",
      "Epoch 6/10\n",
      "5s - loss: 0.2848 - val_loss: 0.2845\n",
      "Epoch 7/10\n",
      "5s - loss: 0.2844 - val_loss: 0.2842\n",
      "Epoch 8/10\n",
      "5s - loss: 0.2841 - val_loss: 0.2840\n",
      "Epoch 9/10\n",
      "5s - loss: 0.2840 - val_loss: 0.2839\n",
      "Epoch 10/10\n",
      "5s - loss: 0.2840 - val_loss: 0.2839\n"
     ]
    }
   ],
   "source": [
    "history = ae.fit(X_train, X_train,\n",
    "        epochs = params[\"epochs\"],\n",
    "        batch_size = params[\"batch_size\"],\n",
    "        shuffle = True,\n",
    "        validation_data = (X_val, X_val),\n",
    "                verbose=2)"
   ]
  },
  {
   "cell_type": "code",
   "execution_count": 14,
   "metadata": {
    "collapsed": false
   },
   "outputs": [
    {
     "data": {
      "image/png": "[encoded data removed]",
      "text/plain": [
       "<matplotlib.figure.Figure at 0x7f7d231ac990>"
      ]
     },
     "metadata": {},
     "output_type": "display_data"
    }
   ],
   "source": [
    "fig, axs = plt.subplots(1,2,figsize=(8,4))\n",
    "axs[0].plot(history.history[\"loss\"],\"b-\",linewidth=2)\n",
    "axs[0].plot(history.history[\"val_loss\"],\"g-\",linewidth=2)\n",
    "axs[0].set_yscale(\"linear\", nonposy='clip')\n",
    "axs[0].set_xlabel(\"epoch\")\n",
    "axs[0].legend([\"loss\",\"val loss\"])\n",
    "\n",
    "axs[1].plot(history.history[\"loss\"],\"b-\",linewidth=2)\n",
    "axs[1].plot(history.history[\"val_loss\"],\"g-\",linewidth=2)\n",
    "axs[1].set_yscale(\"log\", nonposy='clip')\n",
    "axs[0].set_xlabel(\"epoch\")\n",
    "fig.savefig(\"outputs/loss_curves.png\")"
   ]
  },
  {
   "cell_type": "code",
   "execution_count": 15,
   "metadata": {
    "collapsed": false
   },
   "outputs": [
    {
     "name": "stdout",
     "output_type": "stream",
     "text": [
      "transformed true\n",
      "transformed ae\n",
      "added mll to end of true and ae\n",
      "[[  3.33188430e+01   3.11701062e+01  -3.69195472e-01 ...,  -1.21156889e+00   0.00000000e+00   9.22132899e+01]\n",
      " [  1.06681480e+02   3.06046813e+01  -1.92060009e+00 ...,  -5.16373029e-01   0.00000000e+00   9.23662651e+01]\n",
      " [  4.02946470e+01   3.06977756e+01  -7.71448164e-01 ...,   1.86290598e+00   0.00000000e+00   1.06332385e+02]\n",
      " ..., \n",
      " [  5.14182540e+01   3.56147643e+01   9.10295569e-01 ...,  -8.03843879e-01   0.00000000e+00   9.37679315e+01]\n",
      " [  6.56284710e+01   6.55633096e+01  -4.45501111e-02 ...,  -3.18754460e-01   0.00000000e+00   9.09599683e+01]\n",
      " [  5.58817100e+01   3.44845700e+01   1.06319685e+00 ...,  -4.10495233e-01   0.00000000e+00   9.14178433e+01]]\n",
      "[[  5.00738564e+01   4.30002098e+01  -6.04298592e-01 ...,  -1.37281251e+00   7.19325044e-07   9.69771347e+01]\n",
      " [  1.43582870e+02   4.51374016e+01  -1.77198172e+00 ...,  -5.91543555e-01   2.44479651e-07   9.27670670e+01]\n",
      " [  4.07734566e+01   2.27077236e+01  -8.43568563e-01 ...,   1.73810005e+00   2.73162101e-07   8.94464111e+01]\n",
      " ..., \n",
      " [  4.46087914e+01   3.33958969e+01   8.79979670e-01 ...,  -7.78700888e-01   7.12310793e-07   9.06008148e+01]\n",
      " [  4.96412277e+01   5.17899513e+01  -1.99298695e-01 ...,  -8.01631138e-02   1.05705260e-06   1.03469788e+02]\n",
      " [  4.93655205e+01   3.54006767e+01   9.53211427e-01 ...,  -2.55315572e-01   1.10625706e-06   8.15362473e+01]]\n"
     ]
    }
   ],
   "source": [
    "X_val_true_unsc = scaler.inverse_transform(X_val)\n",
    "print \"transformed true\"\n",
    "X_val_ae_unsc = scaler.inverse_transform(ae.predict(X_val))\n",
    "print \"transformed ae\"\n",
    "\n",
    "# add mll to end of X_val matrices\n",
    "func = Minv\n",
    "if params[\"use_pt_eta_phi\"]:\n",
    "    func = get_mll_from_eptetaphi\n",
    "mllreal = func(scaler.inverse_transform(X_val))\n",
    "mllae = func(scaler.inverse_transform(ae.predict(X_val)))\n",
    "X_val_true_unsc = np.c_[X_val_true_unsc,mllreal]\n",
    "X_val_ae_unsc = np.c_[X_val_ae_unsc,mllae]\n",
    "\n",
    "print \"added mll to end of true and ae\"\n",
    "\n",
    "print X_val_true_unsc\n",
    "print X_val_ae_unsc\n"
   ]
  },
  {
   "cell_type": "code",
   "execution_count": 23,
   "metadata": {
    "collapsed": false
   },
   "outputs": [
    {
     "data": {
      "text/plain": [
       "7.5526977499074652"
      ]
     },
     "execution_count": 23,
     "metadata": {},
     "output_type": "execute_result"
    }
   ],
   "source": [
    "# how far off is the mll on average?\n",
    "avgdmll = np.abs(mllreal-mllae).mean()"
   ]
  },
  {
   "cell_type": "code",
   "execution_count": 16,
   "metadata": {
    "collapsed": false
   },
   "outputs": [
    {
     "name": "stderr",
     "output_type": "stream",
     "text": [
      "/cvmfs/cms.cern.ch/slc6_amd64_gcc630/external/py2-pippkgs/6.0/lib/python2.7/site-packages/ipykernel_launcher.py:35: RuntimeWarning: invalid value encountered in divide\n",
      "/cvmfs/cms.cern.ch/slc6_amd64_gcc630/external/py2-pippkgs/6.0/lib/python2.7/site-packages/ipykernel_launcher.py:35: RuntimeWarning: divide by zero encountered in divide\n"
     ]
    },
    {
     "name": "stdout",
     "output_type": "stream",
     "text": [
      "0.117680122441\n",
      "0.599827858853\n",
      "14.092400317\n",
      "0.0118320441221\n",
      "0.0937592727846\n",
      "0.52532765589\n",
      "27.7037538182\n",
      "0.0\n",
      "5.38037833089\n",
      "totalchi2: 48.5249594202\n"
     ]
    },
    {
     "data": {
      "image/png": "[encoded data removed]",
      "text/plain": [
       "<matplotlib.figure.Figure at 0x7f7d1ca21dd0>"
      ]
     },
     "metadata": {},
     "output_type": "display_data"
    }
   ],
   "source": [
    "nrows, ncols = 3,4\n",
    "fig, axs = plt.subplots(nrows,ncols,figsize=(15,12))\n",
    "fig.subplots_adjust(wspace=0.1,hspace=0.3)\n",
    "\n",
    "totalchi2 = 0.\n",
    "# make plots of parameters. must match column ordering. second element is histo range.\n",
    "if params[\"use_pt_eta_phi\"]:\n",
    "    info = [\n",
    "        (\"E1\",(0,350)),\n",
    "        (\"pt1\",(0,100)),\n",
    "        (\"eta1\",(-3,3)),\n",
    "        (\"phi1\",(-3.2,3.2)),\n",
    "        (\"E2\",(0,350)),\n",
    "        (\"pt2\",(0,100)),\n",
    "        (\"eta2\",(-3,3)),\n",
    "        (\"phi2\",(-3.2,3.2)),\n",
    "        (\"mll\",(60,130)),\n",
    "    ]\n",
    "else:\n",
    "    info = [\n",
    "        (\"E1\",(0,500)),\n",
    "        (\"px1\",(-100,100)),\n",
    "        (\"py1\",(-100,100)),\n",
    "        (\"pz1\",(-100,100)),\n",
    "        (\"E2\",(0,500)),\n",
    "        (\"px2\",(-100,100)),\n",
    "        (\"py2\",(-100,100)),\n",
    "        (\"pz2\",(-100,100)),\n",
    "        (\"mll\",(60,130)),\n",
    "    ]\n",
    "for ic,(cname,crange) in enumerate(info):\n",
    "    idx = ic // ncols, ic % ncols\n",
    "    bins_real = axs[idx].hist(X_val_true_unsc[:,ic], range=crange,bins=50, histtype=\"step\", lw=2)\n",
    "    bins_ae = axs[idx].hist(X_val_ae_unsc[:,ic], range=crange,bins=50, histtype=\"step\", lw=2)\n",
    "    tosum = np.nan_to_num((bins_real[0]-bins_ae[0])**2/bins_real[0]**2)\n",
    "    tosum[tosum>1e5] = 0.\n",
    "    chi2 = np.sum(tosum)/len(bins_real[0])\n",
    "    print chi2\n",
    "    totalchi2 += chi2\n",
    "    chi2 = min(chi2,1e4)\n",
    "    axs[idx].set_xlabel(\"{} [$\\chi^2/ndof=${:.1f}]\".format(cname,chi2))\n",
    "    axs[idx].get_yaxis().set_visible(False)\n",
    "    # axs[idx].set_yscale(\"log\", nonposy='clip')\n",
    "axs[0,0].legend([\"True\",\"Decoded\"], loc='upper right')\n",
    "fig.savefig(\"outputs/kinematics.png\")\n",
    "print \"totalchi2:\",totalchi2"
   ]
  },
  {
   "cell_type": "code",
   "execution_count": 21,
   "metadata": {
    "collapsed": false
   },
   "outputs": [
    {
     "name": "stdout",
     "output_type": "stream",
     "text": [
      "Dumped pickle\n"
     ]
    }
   ],
   "source": [
    "to_dump = {\"params\":params, \"history\":history.history, \"totalchi2\":totalchi2, \"avgdmll\": avgdmll}\n",
    "import pickle\n",
    "pickle.dump(to_dump,open(\"outputs/history.pkl\",\"w\"))\n",
    "print \"Dumped pickle\""
   ]
  },
  {
   "cell_type": "code",
   "execution_count": null,
   "metadata": {
    "collapsed": true
   },
   "outputs": [],
   "source": []
  }
 ],
 "metadata": {
  "kernelspec": {
   "display_name": "Python 2",
   "language": "python",
   "name": "python2"
  },
  "language_info": {
   "codemirror_mode": {
    "name": "ipython",
    "version": 2
   },
   "file_extension": ".py",
   "mimetype": "text/x-python",
   "name": "python",
   "nbconvert_exporter": "python",
   "pygments_lexer": "ipython2",
   "version": "2.7.11"
  }
 },
 "nbformat": 4,
 "nbformat_minor": 2
}
